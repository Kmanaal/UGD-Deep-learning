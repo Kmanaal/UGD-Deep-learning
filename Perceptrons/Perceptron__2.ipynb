{
  "nbformat": 4,
  "nbformat_minor": 0,
  "metadata": {
    "colab": {
      "provenance": []
    },
    "kernelspec": {
      "name": "python3",
      "display_name": "Python 3"
    },
    "language_info": {
      "name": "python"
    }
  },
  "cells": [
    {
      "cell_type": "code",
      "execution_count": 67,
      "metadata": {
        "id": "QcLC1y-lgC8x"
      },
      "outputs": [],
      "source": [
        "from sklearn.datasets import make_classification\n",
        "import numpy as np\n",
        "X, y = make_classification(n_samples=100, n_features=2, n_informative=1,n_redundant=0,\n",
        "                           n_classes=2, n_clusters_per_class=1, random_state=41,hypercube=False,class_sep=10)"
      ]
    },
    {
      "cell_type": "code",
      "source": [
        "X"
      ],
      "metadata": {
        "colab": {
          "base_uri": "https://localhost:8080/"
        },
        "id": "A-hBMqZVgGO9",
        "outputId": "0461a7be-7d6a-4710-b565-a0125d22874e"
      },
      "execution_count": 68,
      "outputs": [
        {
          "output_type": "execute_result",
          "data": {
            "text/plain": [
              "array([[ 0.19924745, -0.11697552],\n",
              "       [-0.24882029, -0.73115232],\n",
              "       [-0.3544904 , -0.7081059 ],\n",
              "       [-1.59086506, -2.01199214],\n",
              "       [-0.20083951,  1.63493163],\n",
              "       [-0.83241122,  0.15599044],\n",
              "       [-1.79207014,  1.07782053],\n",
              "       [ 0.0856607 ,  0.80626713],\n",
              "       [-0.55865299,  0.74859527],\n",
              "       [-1.95974262,  0.75152794],\n",
              "       [-1.77828947, -0.90114581],\n",
              "       [-1.77985853, -0.1815243 ],\n",
              "       [-0.02194151, -2.98092432],\n",
              "       [ 0.80563431,  1.20500136],\n",
              "       [-1.82701214,  0.78302407],\n",
              "       [ 0.38730728,  0.42968688],\n",
              "       [-0.14108668, -0.73229726],\n",
              "       [-1.87955941, -0.83930476],\n",
              "       [-0.18232911,  0.83727062],\n",
              "       [-1.77059533, -0.10255323],\n",
              "       [-2.27658028,  0.65867001],\n",
              "       [-2.06519502,  0.92649819],\n",
              "       [-1.31690551,  0.10216193],\n",
              "       [ 1.61043259,  0.46886454],\n",
              "       [-1.21650394,  0.45432938],\n",
              "       [ 0.6139723 ,  1.8613386 ],\n",
              "       [-1.78760957, -0.79255991],\n",
              "       [-1.04149161, -1.0004391 ],\n",
              "       [-2.40067584, -0.53814137],\n",
              "       [-1.80383452,  0.44027716],\n",
              "       [-1.44075613,  0.27047889],\n",
              "       [ 1.34989978, -0.75869267],\n",
              "       [ 0.22520167,  0.6802322 ],\n",
              "       [ 0.53688527,  0.17018845],\n",
              "       [ 0.55483459, -1.01121977],\n",
              "       [-0.32178185, -0.8394709 ],\n",
              "       [-0.98821248,  0.90327412],\n",
              "       [ 0.67394805,  1.16981747],\n",
              "       [-1.60913592,  0.53461406],\n",
              "       [ 0.75727194, -0.22100631],\n",
              "       [-1.32591376, -0.64584571],\n",
              "       [-0.91783293,  0.21243302],\n",
              "       [-1.35578147,  0.98654083],\n",
              "       [ 1.46869659,  0.67382928],\n",
              "       [-0.80540713, -0.11323563],\n",
              "       [ 1.08059816,  0.91694693],\n",
              "       [ 0.14667326,  0.3645213 ],\n",
              "       [-1.37324548, -0.78470874],\n",
              "       [-1.09742089, -1.48004137],\n",
              "       [-0.92017476,  0.72931763],\n",
              "       [ 0.22020513, -0.60000139],\n",
              "       [-0.3515292 ,  0.14720034],\n",
              "       [-1.42135667,  0.35215601],\n",
              "       [ 0.94415309,  0.17388705],\n",
              "       [ 2.14488191, -0.17162755],\n",
              "       [-1.52699536,  0.03763193],\n",
              "       [ 1.0347932 ,  0.48360467],\n",
              "       [-2.05551135, -0.07909256],\n",
              "       [-1.33241395,  0.06158897],\n",
              "       [-0.10615042, -1.20413846],\n",
              "       [ 0.89910594,  0.77324391],\n",
              "       [-1.32152694,  0.7640092 ],\n",
              "       [-1.96489671,  1.57200032],\n",
              "       [ 0.97099786,  0.47296516],\n",
              "       [ 0.0520771 ,  0.0642074 ],\n",
              "       [-0.66393984,  1.52469135],\n",
              "       [-1.8937672 , -2.1450828 ],\n",
              "       [ 0.5941446 , -0.7701428 ],\n",
              "       [-1.55261523,  0.84455766],\n",
              "       [-0.9998803 ,  1.29753064],\n",
              "       [-2.39664251, -0.84276652],\n",
              "       [ 0.27537438,  2.0615874 ],\n",
              "       [ 1.0723376 , -0.3036533 ],\n",
              "       [-1.4577388 , -0.1656085 ],\n",
              "       [ 1.06667457,  1.16969713],\n",
              "       [ 0.67498344, -0.3038555 ],\n",
              "       [-2.18254559, -0.4788978 ],\n",
              "       [ 0.96395115,  0.28128262],\n",
              "       [-1.3155857 ,  0.70412341],\n",
              "       [ 0.7158603 ,  0.3757601 ],\n",
              "       [-0.16186654,  0.97247545],\n",
              "       [ 1.341869  ,  0.56868381],\n",
              "       [-1.46023043, -0.39767934],\n",
              "       [ 1.37645492, -1.08933729],\n",
              "       [-0.35770727, -1.81663939],\n",
              "       [-1.8640534 ,  1.41775924],\n",
              "       [-1.7826468 ,  0.27098296],\n",
              "       [-1.18927817, -0.56186639],\n",
              "       [ 0.26654845,  0.42168159],\n",
              "       [-1.28809059, -2.95373116],\n",
              "       [ 0.75163482,  0.19492133],\n",
              "       [ 1.16254252, -0.04578681],\n",
              "       [-1.15890056, -0.18860967],\n",
              "       [-1.48693688,  0.44635682],\n",
              "       [ 0.75292818, -1.49814775],\n",
              "       [-2.12332717,  0.66198774],\n",
              "       [-1.53599817,  0.07153265],\n",
              "       [-1.46034714,  0.32323638],\n",
              "       [ 0.83626582, -0.34574201],\n",
              "       [-0.26570627,  0.06499922]])"
            ]
          },
          "metadata": {},
          "execution_count": 68
        }
      ]
    },
    {
      "cell_type": "code",
      "source": [
        "X.shape"
      ],
      "metadata": {
        "colab": {
          "base_uri": "https://localhost:8080/"
        },
        "id": "m9vobJ3OgIEx",
        "outputId": "edfeb71b-0c8b-485d-808d-21ce8ca72c45"
      },
      "execution_count": 69,
      "outputs": [
        {
          "output_type": "execute_result",
          "data": {
            "text/plain": [
              "(100, 2)"
            ]
          },
          "metadata": {},
          "execution_count": 69
        }
      ]
    },
    {
      "cell_type": "code",
      "source": [
        "X[84]"
      ],
      "metadata": {
        "colab": {
          "base_uri": "https://localhost:8080/"
        },
        "id": "3W2qN0qmN1CM",
        "outputId": "6b584e7d-9b03-4020-e5db-fdf294cc9ac6"
      },
      "execution_count": 70,
      "outputs": [
        {
          "output_type": "execute_result",
          "data": {
            "text/plain": [
              "array([-0.35770727, -1.81663939])"
            ]
          },
          "metadata": {},
          "execution_count": 70
        }
      ]
    },
    {
      "cell_type": "code",
      "source": [
        "y"
      ],
      "metadata": {
        "colab": {
          "base_uri": "https://localhost:8080/"
        },
        "id": "pN415Lt8Hgcb",
        "outputId": "a629d93b-a86c-49ab-b5d8-991ff6a17c6d"
      },
      "execution_count": 71,
      "outputs": [
        {
          "output_type": "execute_result",
          "data": {
            "text/plain": [
              "array([1, 1, 1, 0, 1, 0, 0, 1, 1, 0, 0, 0, 1, 1, 0, 1, 1, 0, 1, 0, 0, 0,\n",
              "       0, 1, 0, 1, 0, 0, 0, 0, 0, 1, 1, 1, 1, 1, 0, 1, 0, 1, 0, 0, 0, 1,\n",
              "       0, 1, 1, 0, 0, 0, 1, 1, 0, 1, 1, 0, 1, 0, 0, 1, 1, 0, 0, 1, 1, 1,\n",
              "       0, 1, 0, 0, 0, 1, 1, 0, 1, 1, 0, 1, 0, 1, 1, 1, 0, 1, 1, 0, 0, 0,\n",
              "       1, 0, 1, 1, 0, 0, 1, 0, 0, 0, 1, 1])"
            ]
          },
          "metadata": {},
          "execution_count": 71
        }
      ]
    },
    {
      "cell_type": "code",
      "source": [
        "import matplotlib.pyplot as plt"
      ],
      "metadata": {
        "id": "7Au826-8gMIu"
      },
      "execution_count": 72,
      "outputs": []
    },
    {
      "cell_type": "code",
      "source": [
        "plt.figure(figsize=(10,6))\n",
        "plt.scatter(X[:,0],X[:,1],c=y,cmap='winter',s=100)\n",
        "plt.show()"
      ],
      "metadata": {
        "colab": {
          "base_uri": "https://localhost:8080/",
          "height": 522
        },
        "id": "J-tk_e1ugVs7",
        "outputId": "6e5a4a55-c5dd-41e9-cb2a-ec59c94195c5"
      },
      "execution_count": 73,
      "outputs": [
        {
          "output_type": "display_data",
          "data": {
            "text/plain": [
              "<Figure size 1000x600 with 1 Axes>"
            ],
            "image/png": "[encoded data removed]"
          },
          "metadata": {}
        }
      ]
    },
    {
      "cell_type": "code",
      "source": [
        "# Return weights and Intercept\n",
        "def perceptron(X,y):\n",
        "\n",
        "    X = np.insert(X,0,1,axis=1)\n",
        "    weights = np.ones(X.shape[1])\n",
        "    lr = 0.1\n",
        "\n",
        "    for i in range(1000):\n",
        "        j = np.random.randint(0,100)\n",
        "        y_hat = step(np.dot(X[j],weights))\n",
        "        weights = weights + lr*(y[j]-y_hat)*X[j]\n",
        "\n",
        "    return weights[0],weights[1:]"
      ],
      "metadata": {
        "id": "cP2QFxxjgX5C"
      },
      "execution_count": 74,
      "outputs": []
    },
    {
      "cell_type": "code",
      "source": [
        "# Adding Bias to your data\n",
        "np.insert(X,0,1,axis=1)"
      ],
      "metadata": {
        "colab": {
          "base_uri": "https://localhost:8080/"
        },
        "id": "hRkqdxwMv-2j",
        "outputId": "2360affe-8eb7-4da1-e36c-f047da9aa4b8"
      },
      "execution_count": 75,
      "outputs": [
        {
          "output_type": "execute_result",
          "data": {
            "text/plain": [
              "array([[ 1.        ,  0.19924745, -0.11697552],\n",
              "       [ 1.        , -0.24882029, -0.73115232],\n",
              "       [ 1.        , -0.3544904 , -0.7081059 ],\n",
              "       [ 1.        , -1.59086506, -2.01199214],\n",
              "       [ 1.        , -0.20083951,  1.63493163],\n",
              "       [ 1.        , -0.83241122,  0.15599044],\n",
              "       [ 1.        , -1.79207014,  1.07782053],\n",
              "       [ 1.        ,  0.0856607 ,  0.80626713],\n",
              "       [ 1.        , -0.55865299,  0.74859527],\n",
              "       [ 1.        , -1.95974262,  0.75152794],\n",
              "       [ 1.        , -1.77828947, -0.90114581],\n",
              "       [ 1.        , -1.77985853, -0.1815243 ],\n",
              "       [ 1.        , -0.02194151, -2.98092432],\n",
              "       [ 1.        ,  0.80563431,  1.20500136],\n",
              "       [ 1.        , -1.82701214,  0.78302407],\n",
              "       [ 1.        ,  0.38730728,  0.42968688],\n",
              "       [ 1.        , -0.14108668, -0.73229726],\n",
              "       [ 1.        , -1.87955941, -0.83930476],\n",
              "       [ 1.        , -0.18232911,  0.83727062],\n",
              "       [ 1.        , -1.77059533, -0.10255323],\n",
              "       [ 1.        , -2.27658028,  0.65867001],\n",
              "       [ 1.        , -2.06519502,  0.92649819],\n",
              "       [ 1.        , -1.31690551,  0.10216193],\n",
              "       [ 1.        ,  1.61043259,  0.46886454],\n",
              "       [ 1.        , -1.21650394,  0.45432938],\n",
              "       [ 1.        ,  0.6139723 ,  1.8613386 ],\n",
              "       [ 1.        , -1.78760957, -0.79255991],\n",
              "       [ 1.        , -1.04149161, -1.0004391 ],\n",
              "       [ 1.        , -2.40067584, -0.53814137],\n",
              "       [ 1.        , -1.80383452,  0.44027716],\n",
              "       [ 1.        , -1.44075613,  0.27047889],\n",
              "       [ 1.        ,  1.34989978, -0.75869267],\n",
              "       [ 1.        ,  0.22520167,  0.6802322 ],\n",
              "       [ 1.        ,  0.53688527,  0.17018845],\n",
              "       [ 1.        ,  0.55483459, -1.01121977],\n",
              "       [ 1.        , -0.32178185, -0.8394709 ],\n",
              "       [ 1.        , -0.98821248,  0.90327412],\n",
              "       [ 1.        ,  0.67394805,  1.16981747],\n",
              "       [ 1.        , -1.60913592,  0.53461406],\n",
              "       [ 1.        ,  0.75727194, -0.22100631],\n",
              "       [ 1.        , -1.32591376, -0.64584571],\n",
              "       [ 1.        , -0.91783293,  0.21243302],\n",
              "       [ 1.        , -1.35578147,  0.98654083],\n",
              "       [ 1.        ,  1.46869659,  0.67382928],\n",
              "       [ 1.        , -0.80540713, -0.11323563],\n",
              "       [ 1.        ,  1.08059816,  0.91694693],\n",
              "       [ 1.        ,  0.14667326,  0.3645213 ],\n",
              "       [ 1.        , -1.37324548, -0.78470874],\n",
              "       [ 1.        , -1.09742089, -1.48004137],\n",
              "       [ 1.        , -0.92017476,  0.72931763],\n",
              "       [ 1.        ,  0.22020513, -0.60000139],\n",
              "       [ 1.        , -0.3515292 ,  0.14720034],\n",
              "       [ 1.        , -1.42135667,  0.35215601],\n",
              "       [ 1.        ,  0.94415309,  0.17388705],\n",
              "       [ 1.        ,  2.14488191, -0.17162755],\n",
              "       [ 1.        , -1.52699536,  0.03763193],\n",
              "       [ 1.        ,  1.0347932 ,  0.48360467],\n",
              "       [ 1.        , -2.05551135, -0.07909256],\n",
              "       [ 1.        , -1.33241395,  0.06158897],\n",
              "       [ 1.        , -0.10615042, -1.20413846],\n",
              "       [ 1.        ,  0.89910594,  0.77324391],\n",
              "       [ 1.        , -1.32152694,  0.7640092 ],\n",
              "       [ 1.        , -1.96489671,  1.57200032],\n",
              "       [ 1.        ,  0.97099786,  0.47296516],\n",
              "       [ 1.        ,  0.0520771 ,  0.0642074 ],\n",
              "       [ 1.        , -0.66393984,  1.52469135],\n",
              "       [ 1.        , -1.8937672 , -2.1450828 ],\n",
              "       [ 1.        ,  0.5941446 , -0.7701428 ],\n",
              "       [ 1.        , -1.55261523,  0.84455766],\n",
              "       [ 1.        , -0.9998803 ,  1.29753064],\n",
              "       [ 1.        , -2.39664251, -0.84276652],\n",
              "       [ 1.        ,  0.27537438,  2.0615874 ],\n",
              "       [ 1.        ,  1.0723376 , -0.3036533 ],\n",
              "       [ 1.        , -1.4577388 , -0.1656085 ],\n",
              "       [ 1.        ,  1.06667457,  1.16969713],\n",
              "       [ 1.        ,  0.67498344, -0.3038555 ],\n",
              "       [ 1.        , -2.18254559, -0.4788978 ],\n",
              "       [ 1.        ,  0.96395115,  0.28128262],\n",
              "       [ 1.        , -1.3155857 ,  0.70412341],\n",
              "       [ 1.        ,  0.7158603 ,  0.3757601 ],\n",
              "       [ 1.        , -0.16186654,  0.97247545],\n",
              "       [ 1.        ,  1.341869  ,  0.56868381],\n",
              "       [ 1.        , -1.46023043, -0.39767934],\n",
              "       [ 1.        ,  1.37645492, -1.08933729],\n",
              "       [ 1.        , -0.35770727, -1.81663939],\n",
              "       [ 1.        , -1.8640534 ,  1.41775924],\n",
              "       [ 1.        , -1.7826468 ,  0.27098296],\n",
              "       [ 1.        , -1.18927817, -0.56186639],\n",
              "       [ 1.        ,  0.26654845,  0.42168159],\n",
              "       [ 1.        , -1.28809059, -2.95373116],\n",
              "       [ 1.        ,  0.75163482,  0.19492133],\n",
              "       [ 1.        ,  1.16254252, -0.04578681],\n",
              "       [ 1.        , -1.15890056, -0.18860967],\n",
              "       [ 1.        , -1.48693688,  0.44635682],\n",
              "       [ 1.        ,  0.75292818, -1.49814775],\n",
              "       [ 1.        , -2.12332717,  0.66198774],\n",
              "       [ 1.        , -1.53599817,  0.07153265],\n",
              "       [ 1.        , -1.46034714,  0.32323638],\n",
              "       [ 1.        ,  0.83626582, -0.34574201],\n",
              "       [ 1.        , -0.26570627,  0.06499922]])"
            ]
          },
          "metadata": {},
          "execution_count": 75
        }
      ]
    },
    {
      "cell_type": "code",
      "source": [
        "# Create weights array for x inputs np.ones(X.shape[1])\n",
        "np.ones(3)"
      ],
      "metadata": {
        "colab": {
          "base_uri": "https://localhost:8080/"
        },
        "id": "se2Nd9JKwrhO",
        "outputId": "b6210214-7c02-41c1-cf3e-537ea29e5f22"
      },
      "execution_count": 76,
      "outputs": [
        {
          "output_type": "execute_result",
          "data": {
            "text/plain": [
              "array([1., 1., 1.])"
            ]
          },
          "metadata": {},
          "execution_count": 76
        }
      ]
    },
    {
      "cell_type": "code",
      "source": [
        "# select random input from 1 to 100 in each iteration\n",
        "np.random.randint(0,100)"
      ],
      "metadata": {
        "colab": {
          "base_uri": "https://localhost:8080/"
        },
        "id": "YQs6GXO4xOCo",
        "outputId": "46ce34a6-610c-469f-c23f-888e4086851a"
      },
      "execution_count": 77,
      "outputs": [
        {
          "output_type": "execute_result",
          "data": {
            "text/plain": [
              "60"
            ]
          },
          "metadata": {},
          "execution_count": 77
        }
      ]
    },
    {
      "cell_type": "code",
      "source": [
        "np.dot(X[84],[1,1,1])"
      ],
      "metadata": {
        "colab": {
          "base_uri": "https://localhost:8080/",
          "height": 141
        },
        "id": "LC6CcplPyAjV",
        "outputId": "52806071-692c-4443-e6a6-56a0ea82f692"
      },
      "execution_count": 78,
      "outputs": [
        {
          "output_type": "error",
          "ename": "ValueError",
          "evalue": "shapes (2,) and (3,) not aligned: 2 (dim 0) != 3 (dim 0)",
          "traceback": [
            "\u001b[0;31m---------------------------------------------------------------------------\u001b[0m",
            "\u001b[0;31mValueError\u001b[0m                                Traceback (most recent call last)",
            "\u001b[0;32m<ipython-input-78-d006793b0683>\u001b[0m in \u001b[0;36m<cell line: 1>\u001b[0;34m()\u001b[0m\n\u001b[0;32m----> 1\u001b[0;31m \u001b[0mnp\u001b[0m\u001b[0;34m.\u001b[0m\u001b[0mdot\u001b[0m\u001b[0;34m(\u001b[0m\u001b[0mX\u001b[0m\u001b[0;34m[\u001b[0m\u001b[0;36m84\u001b[0m\u001b[0;34m]\u001b[0m\u001b[0;34m,\u001b[0m\u001b[0;34m[\u001b[0m\u001b[0;36m1\u001b[0m\u001b[0;34m,\u001b[0m\u001b[0;36m1\u001b[0m\u001b[0;34m,\u001b[0m\u001b[0;36m1\u001b[0m\u001b[0;34m]\u001b[0m\u001b[0;34m)\u001b[0m\u001b[0;34m\u001b[0m\u001b[0;34m\u001b[0m\u001b[0m\n\u001b[0m",
            "\u001b[0;31mValueError\u001b[0m: shapes (2,) and (3,) not aligned: 2 (dim 0) != 3 (dim 0)"
          ]
        }
      ]
    },
    {
      "cell_type": "code",
      "source": [
        "np.insert(X[84],0,1)"
      ],
      "metadata": {
        "colab": {
          "base_uri": "https://localhost:8080/"
        },
        "id": "r0aXqW15ORYC",
        "outputId": "d8e095e6-6feb-4874-f775-707ac599cb00"
      },
      "execution_count": 79,
      "outputs": [
        {
          "output_type": "execute_result",
          "data": {
            "text/plain": [
              "array([ 1.        , -0.35770727, -1.81663939])"
            ]
          },
          "metadata": {},
          "execution_count": 79
        }
      ]
    },
    {
      "cell_type": "code",
      "source": [
        "np.dot(np.insert(X[84],0,1),[1,1,1])"
      ],
      "metadata": {
        "colab": {
          "base_uri": "https://localhost:8080/"
        },
        "id": "F_irI2rmyVG6",
        "outputId": "ed2de605-9981-4429-9436-b3a58f61f162"
      },
      "execution_count": 80,
      "outputs": [
        {
          "output_type": "execute_result",
          "data": {
            "text/plain": [
              "-1.1743466649289587"
            ]
          },
          "metadata": {},
          "execution_count": 80
        }
      ]
    },
    {
      "cell_type": "code",
      "source": [
        "def step(z):\n",
        "    return 1 if z>0 else 0"
      ],
      "metadata": {
        "id": "ItWqHtxdgwUG"
      },
      "execution_count": 81,
      "outputs": []
    },
    {
      "cell_type": "code",
      "source": [
        "step(-1.1743466649289587)"
      ],
      "metadata": {
        "colab": {
          "base_uri": "https://localhost:8080/"
        },
        "id": "l_QrV8xSzJQ5",
        "outputId": "0ae69f36-537e-4472-96bc-37443b835add"
      },
      "execution_count": 82,
      "outputs": [
        {
          "output_type": "execute_result",
          "data": {
            "text/plain": [
              "0"
            ]
          },
          "metadata": {},
          "execution_count": 82
        }
      ]
    },
    {
      "cell_type": "code",
      "source": [
        "y[84]"
      ],
      "metadata": {
        "colab": {
          "base_uri": "https://localhost:8080/"
        },
        "id": "NcmghfMLR5s4",
        "outputId": "6ef97d81-899b-40ff-b5cc-c975dbb69a02"
      },
      "execution_count": 90,
      "outputs": [
        {
          "output_type": "execute_result",
          "data": {
            "text/plain": [
              "1"
            ]
          },
          "metadata": {},
          "execution_count": 90
        }
      ]
    },
    {
      "cell_type": "code",
      "source": [
        "intercept_,coef_ = perceptron(X,y)"
      ],
      "metadata": {
        "id": "iX34z1GQh4pv"
      },
      "execution_count": 83,
      "outputs": []
    },
    {
      "cell_type": "code",
      "source": [
        "print(coef_)\n",
        "print(intercept_)"
      ],
      "metadata": {
        "colab": {
          "base_uri": "https://localhost:8080/"
        },
        "id": "zHrrgYPEh49j",
        "outputId": "e47a4075-e9b1-4c9e-e59c-73c1ddf13ec6"
      },
      "execution_count": 84,
      "outputs": [
        {
          "output_type": "stream",
          "name": "stdout",
          "text": [
            "[1.32385519 0.06458169]\n",
            "1.0\n"
          ]
        }
      ]
    },
    {
      "cell_type": "code",
      "source": [
        "m = -(coef_[0]/coef_[1])\n",
        "b = -(intercept_/coef_[1])"
      ],
      "metadata": {
        "id": "kv5sHLTgh8ui"
      },
      "execution_count": 85,
      "outputs": []
    },
    {
      "cell_type": "code",
      "source": [
        "m"
      ],
      "metadata": {
        "id": "qfvfyIuJiDGd",
        "colab": {
          "base_uri": "https://localhost:8080/"
        },
        "outputId": "5148ae16-8bbf-4197-e03e-3954d1310cc1"
      },
      "execution_count": 86,
      "outputs": [
        {
          "output_type": "execute_result",
          "data": {
            "text/plain": [
              "-20.4989250398957"
            ]
          },
          "metadata": {},
          "execution_count": 86
        }
      ]
    },
    {
      "cell_type": "code",
      "source": [
        "b"
      ],
      "metadata": {
        "colab": {
          "base_uri": "https://localhost:8080/"
        },
        "id": "aCZYrWmV0z9G",
        "outputId": "e4e755e1-8822-4b41-b2a2-f21074e68538"
      },
      "execution_count": 87,
      "outputs": [
        {
          "output_type": "execute_result",
          "data": {
            "text/plain": [
              "-15.484265302460505"
            ]
          },
          "metadata": {},
          "execution_count": 87
        }
      ]
    },
    {
      "cell_type": "code",
      "source": [
        "x_input = np.linspace(-3,3,100)\n",
        "y_input = m*x_input + b"
      ],
      "metadata": {
        "id": "g9ax48Ug00-f"
      },
      "execution_count": 88,
      "outputs": []
    },
    {
      "cell_type": "code",
      "source": [
        "plt.figure(figsize=(10,6))\n",
        "plt.plot(x_input,y_input,color='red',linewidth=3)\n",
        "plt.scatter(X[:,0],X[:,1],c=y,cmap='winter',s=100)\n",
        "plt.ylim(-3,2)"
      ],
      "metadata": {
        "colab": {
          "base_uri": "https://localhost:8080/",
          "height": 545
        },
        "id": "jFFQBKIq1Lha",
        "outputId": "0ae05aca-f314-49c3-a52f-13a5c98e5792"
      },
      "execution_count": 89,
      "outputs": [
        {
          "output_type": "execute_result",
          "data": {
            "text/plain": [
              "(-3.0, 2.0)"
            ]
          },
          "metadata": {},
          "execution_count": 89
        },
        {
          "output_type": "display_data",
          "data": {
            "text/plain": [
              "<Figure size 1000x600 with 1 Axes>"
            ],
            "image/png": "[encoded data removed]"
          },
          "metadata": {}
        }
      ]
    },
    {
      "cell_type": "markdown",
      "source": [
        "https://github.com/trsvchn/lab/blob/master/nn/animated_perceptron.gif"
      ],
      "metadata": {
        "id": "IrT3FEm43-dj"
      }
    }
  ]
}